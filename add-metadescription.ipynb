{
 "cells": [
  {
   "cell_type": "code",
   "execution_count": null,
   "metadata": {},
   "outputs": [],
   "source": [
    "import os\n",
    "import requests\n",
    "import json\n",
    "\n",
    "HUBSPOT_BASE_URL = \"https://api.hubapi.com\"\n",
    "HUBSPOT_API_KEY = os.environ.get('HUBSPOT_API_KEY')\n",
    "\n",
    "AI21LABS_BASE_URL = \"https://api.ai21.com/studio/v1/j2-ultra/chat\"\n",
    "AI21LABS_API_KEY = os.environ.get('AI21LABS_API_KEY')\n",
    "\n",
    "\n",
    "HUBSPOT_HEADER = {'Authorization': f'Bearer {HUBSPOT_API_KEY}',\n",
    "          'Content-Type': 'application/json'}\n",
    "\n",
    "AI21LABS_HEADER = {\n",
    "    \"accept\": \"application/json\",\n",
    "    \"content-type\": \"application/json\",\n",
    "    \"Authorization\": f'Bearer {AI21LABS_API_KEY}'\n",
    "}"
   ]
  },
  {
   "cell_type": "code",
   "execution_count": null,
   "metadata": {},
   "outputs": [],
   "source": [
    "pages = []\n",
    "\n",
    "def get_all_pages():\n",
    "    try:\n",
    "        cursor_token = None\n",
    "\n",
    "        response = requests.get(f'{HUBSPOT_BASE_URL}/cms/v3/pages/site-pages', headers=HUBSPOT_HEADER)\n",
    "        response.raise_for_status()\n",
    "        \n",
    "        pages.extend(response.json()[\"results\"])\n",
    "        print(f\"Number of pages: {len(pages)}\")\n",
    "\n",
    "        cursor_token = get_cursor_token(response)\n",
    "        \n",
    "        while cursor_token:\n",
    "            r = requests.get(f\"{HUBSPOT_BASE_URL}/cms/v3/pages/site-pages?after={cursor_token}\", headers=HUBSPOT_HEADER)\n",
    "            r.raise_for_status()\n",
    "            pages.extend(r.json()[\"results\"])\n",
    "\n",
    "            cursor_token = get_cursor_token(r)\n",
    "            print(f\"Number of pages: {len(pages)}\")\n",
    "\n",
    "\n",
    "    except requests.exceptions.RequestException as e:\n",
    "        print(f\"Request error - {e}\")\n",
    "\n",
    "def get_cursor_token(response): \n",
    "    return response.json()[\"paging\"][\"next\"][\"after\"] if \"paging\" in response.json() and \"next\" in response.json()[\"paging\"] else None"
   ]
  },
  {
   "cell_type": "code",
   "execution_count": null,
   "metadata": {},
   "outputs": [],
   "source": [
    "def create_prompt(url):\n",
    "    return f\"Create a meta description for the following page: '{url}' on the website of the software company Metal Toad. Maximum 160 characters.\""
   ]
  },
  {
   "cell_type": "code",
   "execution_count": null,
   "metadata": {},
   "outputs": [],
   "source": [
    "def add_meta_description ():\n",
    "    for page in pages:\n",
    "        print(page[\"name\"])\n",
    "        print(page[\"url\"])\n",
    "\n",
    "        prompt = create_prompt(page['url'])\n",
    "        payload = {\n",
    "            \"numResults\": 1,\n",
    "            \"temperature\": 0.7,\n",
    "            \"messages\": [\n",
    "                {\"text\": prompt, \"role\": \"user\"}\n",
    "            ],\n",
    "            \"system\": \"You are an AI assistant for business research. Your responses should be informative and concise.\"\n",
    "        }\n",
    "        AI21_response = requests.post(AI21LABS_BASE_URL, json=payload, headers=AI21LABS_HEADER)\n",
    "        AI21_response.raise_for_status()\n",
    "        print(metaDescription)\n",
    "        metaDescription = AI21_response.json()[\"outputs\"][0][\"text\"]\n",
    "        data = json.dumps({\"metaDescription\": metaDescription})\n",
    "        \n",
    "        hubspot_url = f\"{HUBSPOT_BASE_URL}/{page['id']}\"\n",
    "        response = requests.patch(hubspot_url, data=data, headers=HUBSPOT_HEADER)\n",
    "        response.raise_for_status()"
   ]
  }
 ],
 "metadata": {
  "kernelspec": {
   "display_name": "Python 3",
   "language": "python",
   "name": "python3"
  },
  "language_info": {
   "codemirror_mode": {
    "name": "ipython",
    "version": 3
   },
   "file_extension": ".py",
   "mimetype": "text/x-python",
   "name": "python",
   "nbconvert_exporter": "python",
   "pygments_lexer": "ipython3",
   "version": "3.11.0"
  }
 },
 "nbformat": 4,
 "nbformat_minor": 2
}
